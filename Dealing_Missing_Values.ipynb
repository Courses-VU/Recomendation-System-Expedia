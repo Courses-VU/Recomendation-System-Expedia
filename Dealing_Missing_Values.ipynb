{
 "cells": [
  {
   "cell_type": "code",
   "execution_count": null,
   "metadata": {},
   "outputs": [],
   "source": [
    "import numpy as np\n",
    "import pandas as pd\n",
    "import seaborn as sns\n",
    "import matplotlib.pyplot as plt"
   ]
  },
  {
   "cell_type": "code",
   "execution_count": null,
   "metadata": {},
   "outputs": [],
   "source": [
    "#Load data\n",
    "sb_samples = pd.read_csv(\"../vu-dmt-2assignment/training_set_VU_DM.csv\")"
   ]
  },
  {
   "cell_type": "code",
   "execution_count": null,
   "metadata": {},
   "outputs": [],
   "source": [
    "#Drop \"orig_destination_distance\"\n",
    "sb_samples.drop(\"orig_destination_distance\", axis=1, inplace=True)"
   ]
  },
  {
   "cell_type": "code",
   "execution_count": null,
   "metadata": {},
   "outputs": [],
   "source": [
    "#replace NaN for zero\n",
    "sb_samples[\"prop_review_score\"] = sb_samples[\"prop_review_score\"].replace(np.nan, 0)\n",
    "sb_samples[\"prop_location_score2\"] = sb_samples[\"prop_location_score2\"].replace(np.nan, 0)"
   ]
  },
  {
   "cell_type": "code",
   "execution_count": null,
   "metadata": {},
   "outputs": [],
   "source": [
    "#replace NaN for worst case scenario, in this case -326.567500 which is the minimum value for this feature\n",
    "sb_samples[\"srch_query_affinity_score\"] = sb_samples[\"srch_query_affinity_score\"].replace(np.nan, -326.567500)"
   ]
  }
 ],
 "metadata": {
  "kernelspec": {
   "display_name": "Python 3",
   "language": "python",
   "name": "python3"
  },
  "language_info": {
   "codemirror_mode": {
    "name": "ipython",
    "version": 3
   },
   "file_extension": ".py",
   "mimetype": "text/x-python",
   "name": "python",
   "nbconvert_exporter": "python",
   "pygments_lexer": "ipython3",
   "version": "3.5.2"
  }
 },
 "nbformat": 4,
 "nbformat_minor": 2
}
